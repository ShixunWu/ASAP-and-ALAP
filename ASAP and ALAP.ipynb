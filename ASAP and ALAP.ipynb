{
 "cells": [
  {
   "cell_type": "code",
   "execution_count": 1,
   "id": "91325961",
   "metadata": {},
   "outputs": [],
   "source": [
    "import networkx as nx\n",
    "import numpy as np\n"
   ]
  },
  {
   "cell_type": "markdown",
   "id": "d8db0987",
   "metadata": {},
   "source": [
    "## ASAP example code"
   ]
  },
  {
   "cell_type": "code",
   "execution_count": 2,
   "id": "2c2f6487",
   "metadata": {},
   "outputs": [],
   "source": [
    "ITPA = nx.DiGraph()\n"
   ]
  },
  {
   "cell_type": "code",
   "execution_count": 3,
   "id": "c89b0870",
   "metadata": {},
   "outputs": [],
   "source": [
    "G.add_node(1, t_level=0, priority=0, WECT=1)\n",
    "G.add_node(2, t_level=0, priority=0)\n",
    "G.add_node(3, t_level=0, priority=0)\n",
    "G.add_node(4, t_level=0, priority=0)\n",
    "G.add_node(5, t_level=0, priority=0)\n",
    "G.add_node(6, t_level=0, priority=0)\n",
    "G.add_node(7, t_level=0, priority=0)\n"
   ]
  },
  {
   "cell_type": "code",
   "execution_count": 4,
   "id": "4d05cdb9",
   "metadata": {},
   "outputs": [
    {
     "data": {
      "text/plain": [
       "NodeView((1, 2, 3, 4, 5, 6, 7))"
      ]
     },
     "execution_count": 4,
     "metadata": {},
     "output_type": "execute_result"
    }
   ],
   "source": [
    "G.nodes\n"
   ]
  },
  {
   "cell_type": "code",
   "execution_count": 5,
   "id": "b5d3fb9a",
   "metadata": {},
   "outputs": [],
   "source": [
    "G.add_edge(1, 2, cost=1)\n",
    "G.add_edge(2, 4, cost=2)\n",
    "G.add_edge(3, 5, cost=1)\n",
    "G.add_edge(6, 7, cost=3)\n",
    "G.add_edge(1, 6, cost=1)\n",
    "G.add_edge(2, 3, cost=2)\n",
    "G.add_edge(4, 5, cost=1)\n",
    "G.add_edge(5, 7, cost=3)\n"
   ]
  },
  {
   "cell_type": "code",
   "execution_count": 6,
   "id": "526ee577",
   "metadata": {},
   "outputs": [
    {
     "data": {
      "text/plain": [
       "[1, 2, 3, 5, 7]"
      ]
     },
     "execution_count": 6,
     "metadata": {},
     "output_type": "execute_result"
    }
   ],
   "source": [
    "nx.dag_longest_path(G, weight='cost')\n"
   ]
  },
  {
   "cell_type": "code",
   "execution_count": 7,
   "id": "cf93578b",
   "metadata": {},
   "outputs": [
    {
     "data": {
      "text/plain": [
       "1"
      ]
     },
     "execution_count": 7,
     "metadata": {},
     "output_type": "execute_result"
    }
   ],
   "source": [
    "G.nodes[1]['WECT']\n"
   ]
  },
  {
   "cell_type": "code",
   "execution_count": 8,
   "id": "df507985",
   "metadata": {},
   "outputs": [
    {
     "data": {
      "text/plain": [
       "8"
      ]
     },
     "execution_count": 8,
     "metadata": {},
     "output_type": "execute_result"
    }
   ],
   "source": [
    "nx.dag_longest_path_length(G, weight='cost')+G.nodes[1]['WECT']\n"
   ]
  },
  {
   "cell_type": "code",
   "execution_count": 9,
   "id": "4b897b39",
   "metadata": {},
   "outputs": [
    {
     "data": {
      "text/plain": [
       "[1, 2]"
      ]
     },
     "execution_count": 9,
     "metadata": {},
     "output_type": "execute_result"
    }
   ],
   "source": [
    "sorted(list(nx.ancestors(G, 3)))\n"
   ]
  },
  {
   "cell_type": "code",
   "execution_count": 10,
   "id": "48f3bc5c",
   "metadata": {},
   "outputs": [
    {
     "data": {
      "text/plain": [
       "[]"
      ]
     },
     "execution_count": 10,
     "metadata": {},
     "output_type": "execute_result"
    }
   ],
   "source": [
    "sorted(list(G.predecessors(1)))\n"
   ]
  },
  {
   "cell_type": "code",
   "execution_count": 11,
   "id": "503dd4b8",
   "metadata": {},
   "outputs": [
    {
     "data": {
      "text/plain": [
       "[1]"
      ]
     },
     "execution_count": 11,
     "metadata": {},
     "output_type": "execute_result"
    }
   ],
   "source": [
    "sorted(list(G.predecessors(2)))\n"
   ]
  },
  {
   "cell_type": "code",
   "execution_count": 12,
   "id": "a8838b27",
   "metadata": {},
   "outputs": [
    {
     "data": {
      "text/plain": [
       "0"
      ]
     },
     "execution_count": 12,
     "metadata": {},
     "output_type": "execute_result"
    }
   ],
   "source": [
    "G.nodes[2]['t_level']\n"
   ]
  },
  {
   "cell_type": "code",
   "execution_count": 13,
   "id": "38a6c924",
   "metadata": {},
   "outputs": [
    {
     "data": {
      "text/plain": [
       "{'cost': 1}"
      ]
     },
     "execution_count": 13,
     "metadata": {},
     "output_type": "execute_result"
    }
   ],
   "source": [
    "G.get_edge_data(1, 2)\n"
   ]
  },
  {
   "cell_type": "code",
   "execution_count": 14,
   "id": "62e52f91",
   "metadata": {},
   "outputs": [
    {
     "data": {
      "text/plain": [
       "1"
      ]
     },
     "execution_count": 14,
     "metadata": {},
     "output_type": "execute_result"
    }
   ],
   "source": [
    "G.nodes[2]['t_level'] = np.max(\n",
    "    (G.nodes[1]['t_level']+G.get_edge_data(1, 2)['cost']), G.nodes[2]['t_level'])\n",
    "G.nodes[2]['t_level']\n"
   ]
  },
  {
   "cell_type": "code",
   "execution_count": 15,
   "id": "d8a8f9df",
   "metadata": {},
   "outputs": [
    {
     "name": "stdout",
     "output_type": "stream",
     "text": [
      "Node 1 : t_level =  0\n",
      "Node 2 : t_level =  1\n",
      "Node 3 : t_level =  3\n",
      "Node 4 : t_level =  3\n",
      "Node 5 : t_level =  4\n",
      "Node 6 : t_level =  1\n",
      "Node 7 : t_level =  7\n"
     ]
    }
   ],
   "source": [
    "for node in G.nodes:\n",
    "    node_prede = sorted(list(G.predecessors(node)))\n",
    "    for prede in node_prede:\n",
    "        temp_t_level = G.nodes[prede]['t_level'] + \\\n",
    "            G.get_edge_data(prede, node)['cost']\n",
    "        G.nodes[node]['t_level'] = max(temp_t_level, G.nodes[node]['t_level'])\n",
    "    print('Node', node, ': t_level = ', G.nodes[node]['t_level'])\n"
   ]
  },
  {
   "cell_type": "code",
   "execution_count": 16,
   "id": "1653089d",
   "metadata": {},
   "outputs": [
    {
     "data": {
      "text/plain": [
       "[1, 2, 6, 3, 4, 5, 7]"
      ]
     },
     "execution_count": 16,
     "metadata": {},
     "output_type": "execute_result"
    }
   ],
   "source": [
    "node_order = sorted(G.nodes(), key=lambda n: G.nodes[n]['t_level'])\n",
    "node_order\n"
   ]
  },
  {
   "cell_type": "code",
   "execution_count": 17,
   "id": "0c68a3d0",
   "metadata": {},
   "outputs": [
    {
     "data": {
      "text/plain": [
       "7"
      ]
     },
     "execution_count": 17,
     "metadata": {},
     "output_type": "execute_result"
    }
   ],
   "source": [
    "G.order()\n"
   ]
  },
  {
   "cell_type": "code",
   "execution_count": 18,
   "id": "3298906f",
   "metadata": {},
   "outputs": [
    {
     "name": "stdout",
     "output_type": "stream",
     "text": [
      "Node 1 : priority =  1\n",
      "Node 2 : priority =  2\n",
      "Node 3 : priority =  3\n",
      "Node 4 : priority =  3\n",
      "Node 5 : priority =  4\n",
      "Node 6 : priority =  2\n",
      "Node 7 : priority =  5\n"
     ]
    }
   ],
   "source": [
    "for i in range(G.order()):\n",
    "    if i == 0:\n",
    "        G.nodes[node_order[i]]['priority'] = 1\n",
    "    else:\n",
    "        if G.nodes[node_order[i]]['t_level'] == G.nodes[node_order[i-1]]['t_level']:\n",
    "            G.nodes[node_order[i]\n",
    "                    ]['priority'] = G.nodes[node_order[i-1]]['priority']\n",
    "        else:\n",
    "            G.nodes[node_order[i]\n",
    "                    ]['priority'] = G.nodes[node_order[i-1]]['priority']+1\n",
    "for node in G.nodes:\n",
    "    print('Node', node, ': priority = ', G.nodes[node]['priority'])\n"
   ]
  },
  {
   "cell_type": "markdown",
   "id": "dd0489fc",
   "metadata": {},
   "source": [
    "##  ALAP example code"
   ]
  },
  {
   "cell_type": "code",
   "execution_count": 42,
   "id": "e134c3eb",
   "metadata": {},
   "outputs": [],
   "source": [
    "def single_source_longest_dag_path_length(graph, s):\n",
    "    dic = dict.fromkeys(graph.nodes, -float('inf'))\n",
    "    print(type(s))\n",
    "    dic[s] = 0\n",
    "    topo_order = nx.topological_sort(graph)\n",
    "    for n in topo_order:\n",
    "        for s in graph.successors(n):\n",
    "            dic[s] = max(dic[s], dic[n] + graph.edges[n, s]['cost'])\n",
    "        dic[n] += graph.nodes[1]['WCET']\n",
    "    return dic\n"
   ]
  },
  {
   "cell_type": "code",
   "execution_count": 116,
   "id": "c0aea0af",
   "metadata": {},
   "outputs": [],
   "source": [
    "def longest_dag_path_length_src_to_others(graph):\n",
    "    \"\"\"_summary_\n",
    "    The longest path length that from the node s to all other node\n",
    "    Args:\n",
    "        graph (_type_): _description_\n",
    "\n",
    "    Returns:\n",
    "        dic: element pair is <node, length>\n",
    "    \"\"\"\n",
    "    s = 1\n",
    "    dic = dict.fromkeys(graph.nodes, -float('inf'))\n",
    "    dic[s] = 0\n",
    "    topo_order = nx.topological_sort(graph)\n",
    "    for n in topo_order:\n",
    "        for s in graph.successors(n):\n",
    "            dic[s] = max(dic[s], dic[n] + graph.edges[n, s]['cost'])\n",
    "        dic[n] += graph.nodes[n]['WCET']\n",
    "    return dic\n"
   ]
  },
  {
   "cell_type": "code",
   "execution_count": 72,
   "id": "cf7638cb",
   "metadata": {},
   "outputs": [],
   "source": [
    "def longest_dag_path_length_node_to_sink(graph, s):\n",
    "    \"\"\"_summary_\n",
    "    The longest path length that from the node s to all other node\n",
    "    Args:\n",
    "        graph (_type_): _description_\n",
    "        s (_type_): _description_\n",
    "\n",
    "    Returns:\n",
    "        dic: element pair is <node, length>\n",
    "    \"\"\"\n",
    "    dic = dict.fromkeys(graph.nodes, -float('inf'))\n",
    "    dic[s] = 0\n",
    "    topo_order = nx.topological_sort(graph)\n",
    "    for n in topo_order:\n",
    "        for s in graph.successors(n):\n",
    "            dic[s] = max(dic[s], dic[n] + graph.edges[n, s]['cost'])\n",
    "        dic[n] += graph.nodes[1]['WCET']\n",
    "    return dic[len(graph.nodes)]\n"
   ]
  },
  {
   "cell_type": "code",
   "execution_count": 44,
   "id": "87134378",
   "metadata": {},
   "outputs": [],
   "source": [
    "G.add_node(1, b_level=0, priority=0, WCET=1)\n",
    "G.add_node(2, b_level=0, priority=0)\n",
    "G.add_node(3, b_level=0, priority=0)\n",
    "G.add_node(4, b_level=0, priority=0)\n",
    "G.add_node(5, b_level=0, priority=0)\n",
    "G.add_node(6, b_level=0, priority=0)\n",
    "G.add_node(7, b_level=0, priority=0)\n"
   ]
  },
  {
   "cell_type": "code",
   "execution_count": 76,
   "id": "927ff136",
   "metadata": {},
   "outputs": [
    {
     "name": "stdout",
     "output_type": "stream",
     "text": [
      "<class 'int'>\n"
     ]
    },
    {
     "data": {
      "text/plain": [
       "{1: -inf, 2: -inf, 3: -inf, 4: -inf, 5: -inf, 6: 1, 7: 4}"
      ]
     },
     "execution_count": 76,
     "metadata": {},
     "output_type": "execute_result"
    }
   ],
   "source": [
    "path_dict = single_source_longest_dag_path_length(G, 6)\n",
    "path_dict\n"
   ]
  },
  {
   "cell_type": "code",
   "execution_count": 60,
   "id": "44c47d29",
   "metadata": {},
   "outputs": [
    {
     "data": {
      "text/plain": [
       "{1: 1, 2: 2, 3: 4, 4: 4, 5: 5, 6: 2, 7: 8}"
      ]
     },
     "execution_count": 60,
     "metadata": {},
     "output_type": "execute_result"
    }
   ],
   "source": [
    "src_dict = longest_dag_path_length_src_to_others(G)\n",
    "src_dict\n"
   ]
  },
  {
   "cell_type": "code",
   "execution_count": 78,
   "id": "bdccab50",
   "metadata": {},
   "outputs": [
    {
     "data": {
      "text/plain": [
       "4"
      ]
     },
     "execution_count": 78,
     "metadata": {},
     "output_type": "execute_result"
    }
   ],
   "source": [
    "to_sink = longest_dag_path_length_node_to_sink(G, 6)\n",
    "to_sink\n"
   ]
  },
  {
   "cell_type": "code",
   "execution_count": 22,
   "id": "a7dc6127",
   "metadata": {},
   "outputs": [
    {
     "data": {
      "text/plain": [
       "7"
      ]
     },
     "execution_count": 22,
     "metadata": {},
     "output_type": "execute_result"
    }
   ],
   "source": [
    "max(path_dict, key=path_dict.get)\n"
   ]
  },
  {
   "cell_type": "code",
   "execution_count": 23,
   "id": "e1f5c6bc",
   "metadata": {},
   "outputs": [
    {
     "data": {
      "text/plain": [
       "8"
      ]
     },
     "execution_count": 23,
     "metadata": {},
     "output_type": "execute_result"
    }
   ],
   "source": [
    "G_longest_path = nx.dag_longest_path_length(\n",
    "    G, weight='cost')+G.nodes[1]['WECT']\n",
    "G_longest_path\n"
   ]
  },
  {
   "cell_type": "code",
   "execution_count": 24,
   "id": "4fa5db18",
   "metadata": {},
   "outputs": [
    {
     "name": "stdout",
     "output_type": "stream",
     "text": [
      "Node 1 : b_level =  8\n",
      "Node 2 : b_level =  7\n",
      "Node 3 : b_level =  5\n",
      "Node 4 : b_level =  5\n",
      "Node 5 : b_level =  4\n",
      "Node 6 : b_level =  4\n",
      "Node 7 : b_level =  1\n"
     ]
    }
   ],
   "source": [
    "for node in G.nodes:\n",
    "    node_longest_path_dict = single_source_longest_dag_path_length(G, node)\n",
    "    node_longest_path = max(node_longest_path_dict.values())\n",
    "    G.nodes[node]['b_level'] = node_longest_path\n",
    "    print('Node', node, ': b_level = ', G.nodes[node]['b_level'])\n"
   ]
  },
  {
   "cell_type": "markdown",
   "id": "b375ad01",
   "metadata": {},
   "source": [
    "$ 𝐸𝑆𝑇 = 𝑇_{criticalpath}- 𝑏_i $"
   ]
  },
  {
   "cell_type": "code",
   "execution_count": 25,
   "id": "a1182cac",
   "metadata": {},
   "outputs": [
    {
     "data": {
      "text/plain": [
       "[1, 2, 4, 3, 6, 5, 7]"
      ]
     },
     "execution_count": 25,
     "metadata": {},
     "output_type": "execute_result"
    }
   ],
   "source": [
    "node_order = sorted(G.nodes(), key=lambda n: G.nodes[n]['b_level'])\n",
    "node_order.reverse()\n",
    "node_order\n"
   ]
  },
  {
   "cell_type": "code",
   "execution_count": 26,
   "id": "4981a3c1",
   "metadata": {},
   "outputs": [
    {
     "name": "stdout",
     "output_type": "stream",
     "text": [
      "Node 1 : priority =  1\n",
      "Node 2 : priority =  2\n",
      "Node 3 : priority =  3\n",
      "Node 4 : priority =  3\n",
      "Node 5 : priority =  4\n",
      "Node 6 : priority =  4\n",
      "Node 7 : priority =  5\n"
     ]
    }
   ],
   "source": [
    "for i in range(G.order()):\n",
    "    if i == 0:\n",
    "        G.nodes[node_order[i]]['priority'] = 1\n",
    "    else:\n",
    "        if G.nodes[node_order[i]]['b_level'] == G.nodes[node_order[i-1]]['b_level']:\n",
    "            G.nodes[node_order[i]\n",
    "                    ]['priority'] = G.nodes[node_order[i-1]]['priority']\n",
    "        else:\n",
    "            G.nodes[node_order[i]\n",
    "                    ]['priority'] = G.nodes[node_order[i-1]]['priority']+1\n",
    "for node in G.nodes:\n",
    "    print('Node', node, ': priority = ', G.nodes[node]['priority'])\n"
   ]
  },
  {
   "cell_type": "code",
   "execution_count": 27,
   "id": "fcad5088",
   "metadata": {},
   "outputs": [
    {
     "data": {
      "text/plain": [
       "NodeDataView({1: {'t_level': 0, 'priority': 1, 'WECT': 1, 'b_level': 8}, 2: {'t_level': 1, 'priority': 2, 'b_level': 7}, 3: {'t_level': 3, 'priority': 3, 'b_level': 5}, 4: {'t_level': 3, 'priority': 3, 'b_level': 5}, 5: {'t_level': 4, 'priority': 4, 'b_level': 4}, 6: {'t_level': 1, 'priority': 4, 'b_level': 4}, 7: {'t_level': 7, 'priority': 5, 'b_level': 1}})"
      ]
     },
     "execution_count": 27,
     "metadata": {},
     "output_type": "execute_result"
    }
   ],
   "source": [
    "G.nodes.data()\n"
   ]
  },
  {
   "cell_type": "code",
   "execution_count": 28,
   "id": "5b3f5fde",
   "metadata": {},
   "outputs": [
    {
     "data": {
      "image/png": "[encoded data removed]",
      "text/plain": [
       "<Figure size 432x288 with 1 Axes>"
      ]
     },
     "metadata": {},
     "output_type": "display_data"
    }
   ],
   "source": [
    "nx.draw(G)\n"
   ]
  },
  {
   "cell_type": "markdown",
   "id": "014c4f8c",
   "metadata": {},
   "source": [
    "### Drawing \n",
    "https://networkx.org/documentation/latest/reference/drawing.html"
   ]
  },
  {
   "cell_type": "code",
   "execution_count": 29,
   "id": "008cd7c5",
   "metadata": {},
   "outputs": [
    {
     "data": {
      "text/plain": [
       "[7, 5, 6, 3, 4, 2, 1]"
      ]
     },
     "execution_count": 29,
     "metadata": {},
     "output_type": "execute_result"
    }
   ],
   "source": [
    "sorted(G.nodes(), key=lambda n: G.nodes[n]['b_level'])\n"
   ]
  },
  {
   "cell_type": "code",
   "execution_count": 30,
   "id": "610b45dd",
   "metadata": {},
   "outputs": [
    {
     "data": {
      "text/plain": [
       "[1, 2, 4, 3, 6, 5, 7]"
      ]
     },
     "execution_count": 30,
     "metadata": {},
     "output_type": "execute_result"
    }
   ],
   "source": [
    "node_order = sorted(G.nodes(), key=lambda n: G.nodes[n]['b_level'])\n",
    "node_order.reverse()\n",
    "node_order\n"
   ]
  },
  {
   "cell_type": "code",
   "execution_count": null,
   "id": "2058efbb",
   "metadata": {},
   "outputs": [],
   "source": []
  },
  {
   "cell_type": "markdown",
   "id": "74fc2a6d",
   "metadata": {},
   "source": [
    "## Test on real DAG file"
   ]
  },
  {
   "cell_type": "markdown",
   "id": "c9b5670c",
   "metadata": {},
   "source": [
    "### Tasks_1"
   ]
  },
  {
   "cell_type": "code",
   "execution_count": 31,
   "id": "290a3829",
   "metadata": {},
   "outputs": [],
   "source": [
    "dag_file_path = './DAG example/Tasks_1_Run_0.csv'\n",
    "\n",
    "# R,1\n",
    "# M,8\n",
    "# #\n",
    "# T,1,500,500,0\n",
    "# V,1,1,0,0,65,86\n",
    "# V,1,2,0,0,32,42,1\n",
    "# V,1,3,0,0,81,107,2\n",
    "# V,1,4,0,0,5,6,3\n",
    "# V,1,5,0,0,26,34,1\n",
    "# V,1,6,0,0,52,69,5\n",
    "# V,1,7,0,0,59,78,6\n",
    "# V,1,8,0,0,37,49,4,7\n",
    "# V,1,9,0,0,26,34,8\n"
   ]
  },
  {
   "cell_type": "code",
   "execution_count": 108,
   "id": "216a9bc8",
   "metadata": {},
   "outputs": [
    {
     "name": "stdout",
     "output_type": "stream",
     "text": [
      "3\n"
     ]
    }
   ],
   "source": [
    "ITPA = nx.DiGraph()\n",
    "ITPA.add_node(1, WCET=1, l_level = 0)\n",
    "ITPA.add_node(2, WCET=3, l_level = 0)\n",
    "ITPA.add_node(3, WCET=1, l_level = 0)\n",
    "ITPA.add_node(4, WCET=2, l_level = 0)\n",
    "ITPA.add_node(5, WCET=1, l_level = 0)\n",
    "ITPA.add_node(6, WCET=1, l_level = 0)\n",
    "ITPA.add_node(7, WCET=1, l_level = 0)\n",
    "ITPA.add_edge(1, 2, cost=1)\n",
    "ITPA.add_edge(1, 3, cost=1)\n",
    "ITPA.add_edge(1, 4, cost=1)\n",
    "ITPA.add_edge(2, 5, cost=3)\n",
    "ITPA.add_edge(3, 5, cost=1)\n",
    "ITPA.add_edge(4, 7, cost=2)\n",
    "ITPA.add_edge(5, 6, cost=1)\n",
    "ITPA.add_edge(6, 7, cost=1)\n",
    "\n",
    "print(ITPA.nodes[2]['WCET'])\n"
   ]
  },
  {
   "cell_type": "code",
   "execution_count": 110,
   "id": "e3df3da5",
   "metadata": {},
   "outputs": [
    {
     "name": "stdout",
     "output_type": "stream",
     "text": [
      "{'WCET': 1}\n",
      "{'WCET': 3}\n",
      "{'WCET': 1}\n",
      "{'WCET': 2}\n",
      "{'WCET': 1}\n",
      "{'WCET': 1}\n",
      "{'WCET': 1}\n"
     ]
    },
    {
     "data": {
      "text/plain": [
       "{1: 1, 2: 4, 3: 2, 4: 3, 5: 5, 6: 6, 7: 7}"
      ]
     },
     "execution_count": 110,
     "metadata": {},
     "output_type": "execute_result"
    }
   ],
   "source": [
    "src_dict = longest_dag_path_length_src_to_others(ITPA)\n",
    "src_dict"
   ]
  },
  {
   "cell_type": "code",
   "execution_count": null,
   "id": "5f6c1beb",
   "metadata": {},
   "outputs": [],
   "source": []
  },
  {
   "cell_type": "code",
   "execution_count": 100,
   "id": "0613c8e6",
   "metadata": {},
   "outputs": [
    {
     "name": "stdout",
     "output_type": "stream",
     "text": [
      "1 : 7\n",
      "2 : 6\n",
      "3 : 4\n",
      "4 : 3\n",
      "5 : 3\n",
      "6 : 2\n",
      "7 : 1\n"
     ]
    }
   ],
   "source": [
    "for node in ITPA.nodes:\n",
    "    to_sink = longest_dag_path_length_node_to_sink(ITPA, node)\n",
    "    print(node ,\":\",to_sink)"
   ]
  },
  {
   "cell_type": "code",
   "execution_count": 117,
   "id": "ba026565",
   "metadata": {},
   "outputs": [
    {
     "name": "stdout",
     "output_type": "stream",
     "text": [
      "Node 1 : l_level =  7\n",
      "Node 2 : l_level =  7\n",
      "Node 3 : l_level =  5\n",
      "Node 4 : l_level =  4\n",
      "Node 5 : l_level =  7\n",
      "Node 6 : l_level =  7\n",
      "Node 7 : l_level =  7\n"
     ]
    }
   ],
   "source": [
    "lf_dict = longest_dag_path_length_src_to_others(ITPA)\n",
    "for node in ITPA.nodes:\n",
    "    lb = longest_dag_path_length_node_to_sink(ITPA, node)\n",
    "    ITPA.nodes[node]['l_level'] = lf_dict[node] + lb - ITPA.nodes[node]['WCET']\n",
    "    print('Node', node, ': l_level = ', ITPA.nodes[node]['l_level'])\n"
   ]
  },
  {
   "cell_type": "code",
   "execution_count": 118,
   "id": "f9b60912",
   "metadata": {},
   "outputs": [
    {
     "data": {
      "text/plain": [
       "[7, 6, 5, 2, 1, 3, 4]"
      ]
     },
     "execution_count": 118,
     "metadata": {},
     "output_type": "execute_result"
    }
   ],
   "source": [
    "node_order = sorted(ITPA.nodes(), key=lambda n: ITPA.nodes[n]['l_level'])\n",
    "node_order.reverse()\n",
    "node_order"
   ]
  },
  {
   "cell_type": "code",
   "execution_count": 119,
   "id": "2ac6be09",
   "metadata": {},
   "outputs": [
    {
     "name": "stdout",
     "output_type": "stream",
     "text": [
      "Node 1 : priority =  1\n",
      "Node 2 : priority =  1\n",
      "Node 3 : priority =  2\n",
      "Node 4 : priority =  3\n",
      "Node 5 : priority =  1\n",
      "Node 6 : priority =  1\n",
      "Node 7 : priority =  1\n"
     ]
    }
   ],
   "source": [
    "for i in range(ITPA.order()):\n",
    "    if i == 0:\n",
    "        ITPA.nodes[node_order[i]]['priority'] = 1\n",
    "    else:\n",
    "        if ITPA.nodes[node_order[i]]['l_level'] == ITPA.nodes[node_order[i-1]]['l_level']:\n",
    "            ITPA.nodes[node_order[i]\n",
    "                    ]['priority'] = ITPA.nodes[node_order[i-1]]['priority']\n",
    "        else:\n",
    "            ITPA.nodes[node_order[i]\n",
    "                    ]['priority'] = ITPA.nodes[node_order[i-1]]['priority']+1\n",
    "for node in ITPA.nodes:\n",
    "    print('Node', node, ': priority = ', ITPA.nodes[node]['priority'])"
   ]
  },
  {
   "cell_type": "code",
   "execution_count": null,
   "id": "77189f48",
   "metadata": {},
   "outputs": [],
   "source": []
  }
 ],
 "metadata": {
  "kernelspec": {
   "display_name": "Python 3 (ipykernel)",
   "language": "python",
   "name": "python3"
  },
  "language_info": {
   "codemirror_mode": {
    "name": "ipython",
    "version": 3
   },
   "file_extension": ".py",
   "mimetype": "text/x-python",
   "name": "python",
   "nbconvert_exporter": "python",
   "pygments_lexer": "ipython3",
   "version": "3.8.10"
  }
 },
 "nbformat": 4,
 "nbformat_minor": 5
}
